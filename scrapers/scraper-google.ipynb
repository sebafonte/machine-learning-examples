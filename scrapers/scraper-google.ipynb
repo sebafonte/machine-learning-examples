{
 "cells": [
  {
   "cell_type": "code",
   "execution_count": 31,
   "metadata": {
    "scrolled": false
   },
   "outputs": [
    {
     "name": "stdout",
     "output_type": "stream",
     "text": [
      "/images/branding/searchlogo/1x/googlelogo_desk_heirloom_color_150x55dp.gif\n",
      "exception\n",
      "https://encrypted-tbn0.gstatic.com/images?q=tbn:ANd9GcQqq6ZL9_-DLLXb9q7QbawhI-jIaNTWNMkD5_iibca5bZZGSzqC2xwFVr4l5fQ&s\n",
      "https://encrypted-tbn0.gstatic.com/images?q=tbn:ANd9GcTc8QMMRszth9Vht9gK_iaQsEkMr5A9DRUHvaJCD8C5-l1P_cg8lPobny1Y3lM&s\n",
      "https://encrypted-tbn0.gstatic.com/images?q=tbn:ANd9GcTVtpISXVE_Jqcs7NC-No8gcXSwTZTWuduphAHpPE8iQGleTg4xI31qaZjzFi4&s\n",
      "https://encrypted-tbn0.gstatic.com/images?q=tbn:ANd9GcR8HWTex_KNdNpAU-DiWpLr4y8PJWiZPCMOZh8mQlUMf3gAiNP0qlSB6P4NwQ&s\n",
      "https://encrypted-tbn0.gstatic.com/images?q=tbn:ANd9GcQ1eO2Qaojoq4QFC0Rzx0XEPvtz5Jt5VA8aoye0EaGnUMQUmsX2YfrAZ60njg&s\n",
      "https://encrypted-tbn0.gstatic.com/images?q=tbn:ANd9GcRcruSB2uQ2gabUUgJM8kV1nQuajEY2tXutwo7Pahvx4zGb3fpKZ2LNc7rOGCo&s\n",
      "https://encrypted-tbn0.gstatic.com/images?q=tbn:ANd9GcQP_wf4tdgUCl650vLSXqAu5-iSIHCd3WaercogB-MeZfwNtksVqhan7xo_WFI&s\n",
      "https://encrypted-tbn0.gstatic.com/images?q=tbn:ANd9GcSkhKfB2Z39Q22yxQigbgCbxeuHoc5qnhnZDVV0V9C6W5q-CbPz5YwTnpToonY&s\n",
      "https://encrypted-tbn0.gstatic.com/images?q=tbn:ANd9GcTe5lZR1pujJXQ9j3qJECdQt_fyQDR7evydlq13qkT_UWhwBabpTJFBOgjVWg&s\n",
      "https://encrypted-tbn0.gstatic.com/images?q=tbn:ANd9GcSt8glJPJuCCBYp6dk4Vrbf4H14yJp9nRjCMlr4swDvsio-uisUE6TsAPOtx1Y&s\n",
      "https://encrypted-tbn0.gstatic.com/images?q=tbn:ANd9GcR9p6pmAKNsnQKvd1ce75W9XoNAsQMhBwyyQ5_BIrW1yQTTwJxvIGc4V-xfKf4&s\n",
      "https://encrypted-tbn0.gstatic.com/images?q=tbn:ANd9GcSKr7Ir0M0IIdKkXWEGEZeBBqXRyB27UnARc4P19rYgssTslZ0o-TiiCmz0QQ&s\n",
      "https://encrypted-tbn0.gstatic.com/images?q=tbn:ANd9GcQTAoZyE6f1TBvADXJdgBt2_n-vzHaLJdHv4bKDpecdqX5_7EryXazL38cXH94&s\n",
      "https://encrypted-tbn0.gstatic.com/images?q=tbn:ANd9GcRLW5BG3tWixys0RTnF1UR7R5R649C33dc7udXS5yjF_21bKY91mpF_Jkpcjy4&s\n",
      "https://encrypted-tbn0.gstatic.com/images?q=tbn:ANd9GcQlAP5aQxtpEFjw2domM47yQPynMK5tsGlfHiHjfRV21fhvgPn-W1ZT-kmfYKo&s\n",
      "https://encrypted-tbn0.gstatic.com/images?q=tbn:ANd9GcSQIfd67_nhEuh_sGU0YweM6Rp1IMbeiB9FMcu9SrzylR37D-saFc8-UngHDhM&s\n",
      "https://encrypted-tbn0.gstatic.com/images?q=tbn:ANd9GcRfCuZGTsC0I2AuIar2cAVhTGkpDLM4LfFg_gbSK255FND8K_goIrnqLtpQ0g&s\n",
      "https://encrypted-tbn0.gstatic.com/images?q=tbn:ANd9GcQe2Jz8EY-90NeR58CQo1Gpr5WFivI6oNyIvQqzxsFvSLXD5lJRXti8OfrQI40&s\n",
      "https://encrypted-tbn0.gstatic.com/images?q=tbn:ANd9GcT9Yqucz_cFb1kII-jmbQvwGMOB-oeDVqAI1hyt4JeomappQ8_Cl5i8rBnBRRA&s\n",
      "https://encrypted-tbn0.gstatic.com/images?q=tbn:ANd9GcRKLF35kuIRYhvstAmwHvnWbPZIVeXC8OTZfT1lhZBFFzO_opheWwEc13g_eg&s\n",
      "end\n"
     ]
    }
   ],
   "source": [
    "#!/usr/bin/python3\n",
    "#-*- coding:utf-8 -*-\n",
    "# https://dev.to/petercour/image-scraping-with-python-330a\n",
    "\n",
    "import re\n",
    "import os\n",
    "import requests\n",
    "from bs4 import BeautifulSoup\n",
    "from urllib.parse import urlparse\n",
    "from PIL import Image\n",
    "from io import BytesIO\n",
    "from datetime import datetime\n",
    "\n",
    "            \n",
    "def download_google(directory, keyword, url):\n",
    "    page = requests.get(url).text\n",
    "    soup = BeautifulSoup(page, 'html.parser')\n",
    "    i = 0\n",
    "    \n",
    "    for raw_img in soup.find_all('img'):\n",
    "        try:\n",
    "            link = raw_img.get('src')\n",
    "            print(link)\n",
    "            if (not (link == None)):\n",
    "                time_part = datetime.now().strftime('%Y%m%d%H%M%S')\n",
    "                pic = requests.get(link, timeout=10)    \n",
    "                string = directory + '/pic_' + keyword + '_' + time_part + '_' + str(i) + '.gif'\n",
    "                fp = open(string, 'wb')\n",
    "                fp.write(pic.content)\n",
    "                fp.close()\n",
    "                i += 1\n",
    "        except:\n",
    "            print('exception')\n",
    "            continue\n",
    "    \n",
    "def download_google_recursive(directory, keyword, url):\n",
    "    page = requests.get(url).text\n",
    "    soup = BeautifulSoup(page, 'html.parser')\n",
    "    j = 0\n",
    "    #for raw_img in soup.find_all('href'):\n",
    "    #    return download_google()\n",
    "\n",
    "# Building classifier for cheking innapropiate photos\n",
    "download_google(\"source\", \"remeras\", 'https://www.google.com/search?q=cristina+kirchner+fotos&client=firefox-b-d&tbm=isch&source=iu&ictx=1&fir=E9a4uq6EliqSwM%252CK_wDVc3Ivz5bXM%252C_&vet=1&usg=AI4_-kTt2AYzPPv7MLHVVFL4lJ8p5-zSVA&sa=X&ved=2ahUKEwizkIr1wanqAhWXK7kGHdLSBUYQ9QEwAXoECAoQBg&biw=1536&bih=371#imgrc=E9a4uq6EliqSwM')\n",
    "print(\"end\")"
   ]
  },
  {
   "cell_type": "code",
   "execution_count": null,
   "metadata": {},
   "outputs": [],
   "source": []
  }
 ],
 "metadata": {
  "kernelspec": {
   "display_name": "Python 3",
   "language": "python",
   "name": "python3"
  },
  "language_info": {
   "codemirror_mode": {
    "name": "ipython",
    "version": 3
   },
   "file_extension": ".py",
   "mimetype": "text/x-python",
   "name": "python",
   "nbconvert_exporter": "python",
   "pygments_lexer": "ipython3",
   "version": "3.7.0"
  }
 },
 "nbformat": 4,
 "nbformat_minor": 4
}
