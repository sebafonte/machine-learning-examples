{
 "cells": [
  {
   "cell_type": "code",
   "execution_count": 3,
   "metadata": {
    "scrolled": false
   },
   "outputs": [],
   "source": [
    "#!/usr/bin/python3\n",
    "import re, os, requests, time, sys\n",
    "from bs4 import BeautifulSoup\n",
    "from urllib.parse import urlparse\n",
    "from PIL import Image\n",
    "from io import BytesIO\n",
    "from datetime import datetime\n",
    "from IPython.display import clear_output\n",
    "\n",
    "global downloaded_urls\n",
    "downloaded_urls = []\n",
    "progress_part = 0"
   ]
  },
  {
   "cell_type": "code",
   "execution_count": 4,
   "metadata": {},
   "outputs": [],
   "source": [
    "def update_progress(progress):\n",
    "    bar_length = 20\n",
    "    if isinstance(progress, int):\n",
    "        progress = float(progress)\n",
    "    if not isinstance(progress, float):\n",
    "        progress = 0\n",
    "    if progress < 0:\n",
    "        progress = 0\n",
    "    if progress >= 1:\n",
    "        progress = 1\n",
    "\n",
    "    block = int(round(bar_length * progress))\n",
    "    clear_output(wait = True)\n",
    "    text = \"Progress: [{0}]/{0} {1:.1f}%\".format( \"#\" * block + \"-\" * (bar_length - block), progress * 100, progress_part)\n",
    "    print(text)\n",
    "\n",
    "def update_progress_part(part):\n",
    "    progress_part = part\n",
    "    \n",
    "def safe_get(url):\n",
    "    try:\n",
    "        return requests.get(url).text\n",
    "    except:\n",
    "        return None"
   ]
  },
  {
   "cell_type": "code",
   "execution_count": 21,
   "metadata": {},
   "outputs": [],
   "source": [
    "def collect_pages(directory, url, recursive=True):\n",
    "    update_progress(0.0)\n",
    "    \n",
    "    # Scan sub urls\n",
    "    print(\"Scanning \" + url)\n",
    "    page = safe_get(url)\n",
    "    soup = BeautifulSoup(page, 'html.parser')\n",
    "    bag = []\n",
    "    bag.append(url)\n",
    "    \n",
    "    if (recursive == True and page != None):\n",
    "        for href in soup.find_all('a'):\n",
    "            try:\n",
    "                jump_link = str(href.get('href'))\n",
    "                sub_url = None\n",
    "    \n",
    "                if (jump_link[:4] == 'http'):\n",
    "                    sub_url = jump_link\n",
    "                else:\n",
    "                    # TODO: often have to modify /\n",
    "                    pos = url[8:].index('/')\n",
    "                    base_url = url[:pos+8] + '/'\n",
    "                    sub_url = base_url + jump_link\n",
    "                \n",
    "                if sub_url not in bag:  \n",
    "                    print(\"Adding \" + sub_url)\n",
    "                    bag.append(sub_url)\n",
    "            except Exception:\n",
    "                print('exception ' + str(Exception))\n",
    "                continue\n",
    "\n",
    "        # Iterate over all sites if recursive\n",
    "        number_of_elements = len(bag)\n",
    "        for i in range(number_of_elements):\n",
    "            print(\"Scanning page from: \" + bag[i])\n",
    "            bag.append(bag[i])\n",
    "            update_progress(i / number_of_elements)\n",
    "\n",
    "    update_progress(1.0)\n",
    "    return bag\n",
    "\n",
    "def download_images(directory, keyword, urls):\n",
    "    update_progress(0.0)\n",
    "    number_of_elements = len(urls)\n",
    "    for i in range(number_of_elements):\n",
    "        download_img_src(directory, keyword, urls[i])\n",
    "        update_progress(i / number_of_elements)\n",
    "    update_progress(1.0)\n",
    "    \n",
    "def save_contents(directory, keyword, urls):\n",
    "    update_progress(0.0)\n",
    "    number_of_elements = len(urls)\n",
    "    for i in range(number_of_elements):\n",
    "        save_content(directory, keyword, urls[i], i)\n",
    "        update_progress(i / number_of_elements)\n",
    "    update_progress(1.0)\n",
    "\n",
    "def save_content(directory, keyword, url, i):\n",
    "    page = safe_get(url)\n",
    "    if (page == None):\n",
    "        return\n",
    "    time_part = datetime.now().strftime('%Y%m%d%H%M%S')\n",
    "    string = directory + '/content_' + keyword + '_' + time_part + '_' + str(i) + '.html'\n",
    "    fp = open(string, 'wb')\n",
    "    fp.write(bytes(page, 'utf-8'))\n",
    "    fp.close()           "
   ]
  },
  {
   "cell_type": "code",
   "execution_count": 22,
   "metadata": {},
   "outputs": [],
   "source": [
    "def download_img_src(directory, keyword, url):\n",
    "    global downloaded_urls\n",
    "    page = safe_get(url)\n",
    "    if (page == None):\n",
    "        return\n",
    "    i=0\n",
    "    soup = BeautifulSoup(page, 'html.parser')\n",
    "    \n",
    "    for raw_img in soup.find_all('img'):\n",
    "        #print(\"Processing image: \" + str(raw_img))\n",
    "        try:\n",
    "            link = raw_img.get('src')\n",
    "            if (not (link == None)):\n",
    "                final_url = None\n",
    "                if (link[:4] == 'http'):\n",
    "                    final_url = link\n",
    "                else:\n",
    "                    # TODO: often have to modify /\n",
    "                    pos = url[8:].index('/')\n",
    "                    base_url = url[:pos+8] #+ '/'\n",
    "                    final_url = base_url + link\n",
    "                    \n",
    "                if (final_url not in downloaded_urls):\n",
    "                    time_part = datetime.now().strftime('%Y%m%d%H%M%S')\n",
    "                    try: \n",
    "                        pic = requests.get(final_url, timeout=10)    \n",
    "                        string = directory + '/pic_' + keyword + '_' + time_part + '_' + str(i) + final_url[len(final_url)-4:]\n",
    "                        fp = open(string, 'wb')\n",
    "                        fp.write(pic.content)\n",
    "                        fp.close()\n",
    "                        downloaded_urls.append(final_url)\n",
    "                        i=i+1\n",
    "                    except:\n",
    "                        continue\n",
    "        except:\n",
    "            print('exception' + str(Exception))\n",
    "            continue"
   ]
  },
  {
   "cell_type": "code",
   "execution_count": null,
   "metadata": {},
   "outputs": [
    {
     "name": "stdout",
     "output_type": "stream",
     "text": [
      "Progress: [######--------------]/######-------------- 31.0%\n"
     ]
    }
   ],
   "source": [
    "# Building classifier for cheking innapropiate photos\n",
    "pages = collect_pages(\"source\", 'https://www.textures.com/', True)\n",
    "#pages = collect_pages(\"source\", 'http://www.nukleus.nu/VersusVote.php/', True)\n",
    "\n",
    "for i in range(2,300):\n",
    "    pages = collect_pages(\"source\", 'https://www.textures.com/browse/rubber/' + str(i), True)\n",
    "    download_images('source', 'floors', pages)"
   ]
  },
  {
   "cell_type": "code",
   "execution_count": null,
   "metadata": {
    "scrolled": false
   },
   "outputs": [],
   "source": [
    "#print(pages)\n",
    "download_images('source', 'logos', pages)\n",
    "#save_contents('source', 'nicks-scene', pages)\n",
    "#print(\"end\")"
   ]
  },
  {
   "cell_type": "code",
   "execution_count": null,
   "metadata": {},
   "outputs": [],
   "source": []
  }
 ],
 "metadata": {
  "kernelspec": {
   "display_name": "Python 3",
   "language": "python",
   "name": "python3"
  },
  "language_info": {
   "codemirror_mode": {
    "name": "ipython",
    "version": 3
   },
   "file_extension": ".py",
   "mimetype": "text/x-python",
   "name": "python",
   "nbconvert_exporter": "python",
   "pygments_lexer": "ipython3",
   "version": "3.7.0"
  }
 },
 "nbformat": 4,
 "nbformat_minor": 4
}
