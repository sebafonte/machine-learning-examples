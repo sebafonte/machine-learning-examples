{
 "cells": [
  {
   "cell_type": "code",
   "execution_count": 19,
   "metadata": {
    "scrolled": false
   },
   "outputs": [],
   "source": [
    "#!/usr/bin/python3\n",
    "#-*- coding:utf-8 -*-\n",
    "# https://dev.to/petercour/image-scraping-with-python-330a\n",
    "\n",
    "import re\n",
    "import os\n",
    "import requests\n",
    "from bs4 import BeautifulSoup\n",
    "from urllib.parse import urlparse\n",
    "from PIL import Image\n",
    "from io import BytesIO\n",
    "\n",
    "def download_porn1(directory, keyword, url):\n",
    "    page = requests.get(url).text\n",
    "    soup = BeautifulSoup(page, 'html.parser')\n",
    "    i = 0\n",
    "    \n",
    "    for raw_img in soup.find_all('img'):\n",
    "        try:\n",
    "            link = raw_img.get('src')\n",
    "            print(link)\n",
    "            if (not (link == None)):\n",
    "                pic = requests.get(link, timeout=10)    \n",
    "                string = directory + '/pic_' + keyword + '_' + str(i) + link[len(link)-4:]\n",
    "                fp = open(string, 'wb')\n",
    "                fp.write(pic.content)\n",
    "                fp.close()\n",
    "                i += 1\n",
    "        except:\n",
    "            print('exception')\n",
    "            continue\n",
    "            \n",
    "# Building classifier for cheking innapropiate photos\n",
    "#download_porn1(\"source\", \"dicks\", 'https://www.pichunter.com/')\n",
    "download_porn1(\"source\", \"dicks\", 'https://imgur.com/')"
   ]
  },
  {
   "cell_type": "code",
   "execution_count": null,
   "metadata": {},
   "outputs": [],
   "source": []
  }
 ],
 "metadata": {
  "kernelspec": {
   "display_name": "Python 3",
   "language": "python",
   "name": "python3"
  },
  "language_info": {
   "codemirror_mode": {
    "name": "ipython",
    "version": 3
   },
   "file_extension": ".py",
   "mimetype": "text/x-python",
   "name": "python",
   "nbconvert_exporter": "python",
   "pygments_lexer": "ipython3",
   "version": "3.7.0"
  }
 },
 "nbformat": 4,
 "nbformat_minor": 4
}
