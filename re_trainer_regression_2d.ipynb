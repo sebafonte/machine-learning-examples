{
  "nbformat": 4,
  "nbformat_minor": 0,
  "metadata": {
    "colab": {
      "name": "re-trainer-regression-2d.ipynb",
      "provenance": [],
      "collapsed_sections": []
    },
    "kernelspec": {
      "name": "python3",
      "display_name": "Python 3"
    }
  },
  "cells": [
    {
      "cell_type": "code",
      "metadata": {
        "id": "EsEm9CK4_Wwk",
        "colab_type": "code",
        "outputId": "47c63951-d955-4f06-a2f3-3a4da96cec09",
        "colab": {
          "base_uri": "https://localhost:8080/",
          "height": 35
        }
      },
      "source": [
        "%tensorflow_version 2.x\n",
        "from __future__ import absolute_import, division, print_function, unicode_literals\n",
        "import matplotlib\n",
        "import matplotlib.pyplot as plt\n",
        "import tensorflow as tf\n",
        "import pandas as pd\n",
        "import ast\n",
        "import time\n",
        "\n",
        "try:\n",
        "  import tensorflow.compat.v2 as tf\n",
        "except Exception:\n",
        "  pass\n",
        "\n",
        "dir_base_model = \"/content/gdrive/My Drive/DeepLearning/2d-mapper/mapper-2dt\"\n",
        "tf.enable_v2_behavior()\n",
        "print(tf.__version__)"
      ],
      "execution_count": 12,
      "outputs": [
        {
          "output_type": "stream",
          "text": [
            "2.1.0-rc1\n"
          ],
          "name": "stdout"
        }
      ]
    },
    {
      "cell_type": "code",
      "metadata": {
        "id": "e918TNm9AS0-",
        "colab_type": "code",
        "outputId": "dcac2859-2b88-4457-8de6-8e1d6c5841cb",
        "colab": {
          "base_uri": "https://localhost:8080/",
          "height": 35
        }
      },
      "source": [
        "# Load input data\n",
        "from google.colab import drive\n",
        "drive.mount('/content/gdrive')\n",
        "# (\"X\",\"Y\",\"S\",\"T\")) in csv\n",
        "data = pd.read_csv(dir_base_model + '.csv', index_col=False)\n",
        "\n",
        "v = int(len(data) * 0.8)\n",
        "train_data = data[1:v]\n",
        "test_data = data[v:len(data)]\n",
        "x_train = train_data[[\"S\", \"T\"]]\n",
        "y_train = train_data[[\"X\", \"Y\"]]\n",
        "x_test = test_data[[\"S\", \"T\"]]\n",
        "y_test = test_data[[\"X\", \"Y\"]]\n",
        "x_train.columns = [''] * len(x_train.columns)\n",
        "y_train.columns = [''] * len(y_train.columns)"
      ],
      "execution_count": 13,
      "outputs": [
        {
          "output_type": "stream",
          "text": [
            "Drive already mounted at /content/gdrive; to attempt to forcibly remount, call drive.mount(\"/content/gdrive\", force_remount=True).\n"
          ],
          "name": "stdout"
        }
      ]
    },
    {
      "cell_type": "code",
      "metadata": {
        "id": "8Ju2TM04ATyv",
        "colab_type": "code",
        "colab": {}
      },
      "source": [
        "def load_last_and_train():\n",
        "  model = tf.keras.models.load_model(dir_base_model + '.model')\n",
        "  optimizer = tf.keras.optimizers.Adam(learning_rate=0.01)\n",
        "  start_time = time.time()\n",
        "  model.compile(loss='mse', optimizer=optimizer, metrics=['mae', 'mse'])\n",
        "  #model.compile(optimizer='adam', loss='mean_squared_error', metrics=['accuracy'])\n",
        "  model.fit(x = x_train.values, y = y_train.values, verbose=0, epochs=1000)#, batch_size=9)\n",
        "  result = model.evaluate(x_test.values,  y_test.values, verbose=0)\n",
        "  end_time = time.time() - start_time\n",
        "  print(str(result) + \" taken \" + str(end_time) + \" seconds\")\n",
        "  return model"
      ],
      "execution_count": 0,
      "outputs": []
    },
    {
      "cell_type": "code",
      "metadata": {
        "id": "QJypgO3SBsLe",
        "colab_type": "code",
        "colab": {}
      },
      "source": [
        "def save_if_better(model):\n",
        "  try:\n",
        "      f = open(dir_base_model + '-info.txt', 'rt')\n",
        "      f.close()\n",
        "      exists = True\n",
        "  except FileNotFoundError:\n",
        "      exists = False\n",
        "  # Check if saved model is better. If false, save this one.\n",
        "  if (exists == True):\n",
        "    file = open(dir_base_model + '-info.txt', 'rt')\n",
        "    value = file.read()\n",
        "    file.close()\n",
        "    old_evaluation_result = ast.literal_eval(value)\n",
        "    print(\"Saved loss is: \" + str(old_evaluation_result))\n",
        "  # Evaluate model\n",
        "  evaluation_result = model.evaluate(x_test.values,  y_test.values, verbose=0)\n",
        "  # Save only if found a better configuration\n",
        "  if (exists == False or evaluation_result[0] < old_evaluation_result[0]):\n",
        "    print(\"Found better model with loss: \" + str(evaluation_result))\n",
        "    file = open(dir_base_model + '-info.txt', 'wt')\n",
        "    file.write(str(evaluation_result))\n",
        "    file.close()\n",
        "    model.save(dir_base_model + '.model')"
      ],
      "execution_count": 0,
      "outputs": []
    },
    {
      "cell_type": "code",
      "metadata": {
        "id": "FJzioE7oHA1S",
        "colab_type": "code",
        "outputId": "a52fe829-b1a7-4c22-e378-a491ff7c06cd",
        "colab": {
          "base_uri": "https://localhost:8080/",
          "height": 1000
        }
      },
      "source": [
        "for x in range(10):\n",
        "  model = load_last_and_train()\n",
        "  save_if_better(model)\n",
        "\n",
        " # Get final weights\n",
        "print(\"Current weights:\\n\")\n",
        "print(model.get_weights())"
      ],
      "execution_count": 21,
      "outputs": [
        {
          "output_type": "stream",
          "text": [
            "[10.648910522460938, 2.8353703, 10.6489105] taken 3.251591682434082 seconds\n",
            "Saved loss is: [10.60622501373291, 2.8289435, 10.606225]\n",
            "[10.648869514465332, 2.8353631, 10.6488695] taken 3.0984249114990234 seconds\n",
            "Saved loss is: [10.60622501373291, 2.8289435, 10.606225]\n",
            "[10.648900032043457, 2.8353686, 10.6489] taken 3.033210277557373 seconds\n",
            "Saved loss is: [10.60622501373291, 2.8289435, 10.606225]\n",
            "[10.648881912231445, 2.835366, 10.648882] taken 3.132598400115967 seconds\n",
            "Saved loss is: [10.60622501373291, 2.8289435, 10.606225]\n",
            "[10.648896217346191, 2.835369, 10.648896] taken 3.170327663421631 seconds\n",
            "Saved loss is: [10.60622501373291, 2.8289435, 10.606225]\n",
            "[10.648895263671875, 2.835368, 10.648895] taken 3.063469886779785 seconds\n",
            "Saved loss is: [10.60622501373291, 2.8289435, 10.606225]\n",
            "[10.648882865905762, 2.8353674, 10.648883] taken 3.039896249771118 seconds\n",
            "Saved loss is: [10.60622501373291, 2.8289435, 10.606225]\n",
            "[10.648895263671875, 2.835368, 10.648895] taken 3.0269360542297363 seconds\n",
            "Saved loss is: [10.60622501373291, 2.8289435, 10.606225]\n",
            "[10.648893356323242, 2.8353684, 10.648893] taken 3.004302501678467 seconds\n",
            "Saved loss is: [10.60622501373291, 2.8289435, 10.606225]\n",
            "[10.648889541625977, 2.835367, 10.64889] taken 3.6454520225524902 seconds\n",
            "Saved loss is: [10.60622501373291, 2.8289435, 10.606225]\n",
            "Current weights:\n",
            "\n",
            "[array([[ 0.34602314, -0.04213102],\n",
            "       [-0.673356  ,  0.36166978]], dtype=float32), array([1.2431538, 0.5878664], dtype=float32), array([[-0.13505878,  0.32388255, -0.39279893, -0.26804912, -0.5897496 ,\n",
            "        -0.22022402, -0.0094248 , -0.05571829,  0.16708148,  0.19233486],\n",
            "       [ 0.34944564,  0.18760401, -0.82146513,  0.19180241,  0.16990629,\n",
            "        -0.20362726, -0.00545466, -0.20903072,  0.42588314,  0.30781737]],\n",
            "      dtype=float32), array([ 4.3703146, -1.5154372,  6.047082 ,  3.4048128, -3.5880995,\n",
            "       -2.6996372, -1.8800328,  4.5865192,  2.0281174,  4.289917 ],\n",
            "      dtype=float32), array([[-0.13945399, -0.5720727 ,  0.46373436, -0.48428836, -0.49573013,\n",
            "         0.32781184,  0.3864224 ,  0.5377329 ,  0.40580466, -0.18864013],\n",
            "       [-0.43770346,  0.32206613,  0.3357032 , -0.23985286, -0.3803718 ,\n",
            "         0.20976402,  0.29515156,  0.22114442, -0.6142026 , -0.35143167],\n",
            "       [-0.12945686, -0.56630415,  0.78380895,  0.12708151, -0.06740838,\n",
            "        -0.35940528,  0.2210533 ,  1.0411733 , -0.08617704, -0.3052526 ],\n",
            "       [ 0.47657067,  0.38359824,  0.43693435,  0.39271986,  0.19202393,\n",
            "         0.26420644,  0.38728827,  0.46839184, -0.10900597,  0.17522216],\n",
            "       [-0.3621428 ,  0.02024226, -0.23496693,  0.08450544,  0.06821193,\n",
            "         0.30470094,  0.04168229, -0.39809108, -0.40735433, -0.04696331],\n",
            "       [-0.38926074,  0.11725716, -0.09768008,  0.30095908,  0.49173212,\n",
            "        -0.5145846 , -0.03737672,  0.16472909,  0.3160324 , -0.39632502],\n",
            "       [-0.08567075, -0.11483122, -0.3076795 , -0.37162688, -0.13757691,\n",
            "        -0.25949943,  0.38110086,  0.03916388,  0.27343532, -0.43609065],\n",
            "       [ 0.24281193, -0.22572075,  0.27959958,  0.8017866 , -0.44337225,\n",
            "        -0.42788383, -0.01846409,  0.42822763,  0.40405908, -0.31924087],\n",
            "       [ 0.47343975,  0.26681146,  0.39191446,  0.4620818 ,  0.2806667 ,\n",
            "        -0.50169593, -0.31971288, -0.34659827, -0.3946962 , -0.4834    ],\n",
            "       [ 0.3838133 ,  0.14581913,  0.46646398,  0.0123622 ,  0.09949367,\n",
            "         0.2856786 ,  0.14538774,  0.87463963,  0.6968962 ,  0.14707448]],\n",
            "      dtype=float32), array([ 3.0015082, -2.7292452,  3.2746253,  3.5167487, -1.2184908,\n",
            "       -3.0567217,  1.9694511,  4.9088182,  3.0789971,  2.973721 ],\n",
            "      dtype=float32), array([[-0.8404263 ,  0.4484425 ],\n",
            "       [ 0.3320234 , -0.17581989],\n",
            "       [-0.782209  ,  0.59525657],\n",
            "       [-0.16541193,  0.07974166],\n",
            "       [ 0.00851962, -0.3915486 ],\n",
            "       [ 0.13716452, -0.21999602],\n",
            "       [-0.50674343, -0.0717708 ],\n",
            "       [-0.76020604,  0.30782476],\n",
            "       [-0.13820136,  0.19117486],\n",
            "       [-0.2944044 ,  0.28540972]], dtype=float32), array([-2.6472397,  1.9122741], dtype=float32)]\n"
          ],
          "name": "stdout"
        }
      ]
    }
  ]
}