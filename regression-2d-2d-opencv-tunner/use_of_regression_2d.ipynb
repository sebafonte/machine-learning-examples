{
  "nbformat": 4,
  "nbformat_minor": 0,
  "metadata": {
    "colab": {
      "name": "use-of-regression-2d.ipynb",
      "provenance": [],
      "collapsed_sections": []
    },
    "kernelspec": {
      "name": "python3",
      "display_name": "Python 3"
    }
  },
  "cells": [
    {
      "cell_type": "code",
      "metadata": {
        "id": "csYS9PIBFiq0",
        "colab_type": "code",
        "outputId": "25b44d58-4f0f-4c26-ce4f-0fd3eac54bef",
        "colab": {
          "base_uri": "https://localhost:8080/",
          "height": 35
        }
      },
      "source": [
        "# Import all stuff\n",
        "%tensorflow_version 2.x\n",
        "from __future__ import absolute_import, division, print_function, unicode_literals\n",
        "import matplotlib\n",
        "import matplotlib.pyplot as plt\n",
        "import tensorflow as tf\n",
        "import pandas as pd\n",
        "\n",
        "try:\n",
        "  import tensorflow.compat.v2 as tf\n",
        "except Exception:\n",
        "  pass\n",
        "\n",
        "dir_base_model = \"/content/gdrive/My Drive/DeepLearning/2d-mapper/mapper-2dt\"\n",
        "tf.enable_v2_behavior()\n",
        "print(tf.__version__)"
      ],
      "execution_count": 15,
      "outputs": [
        {
          "output_type": "stream",
          "text": [
            "2.1.0-rc1\n"
          ],
          "name": "stdout"
        }
      ]
    },
    {
      "cell_type": "code",
      "metadata": {
        "id": "KQk7dx3BGWpF",
        "colab_type": "code",
        "outputId": "9e49d387-5334-4c0e-d244-ebfa06216e03",
        "colab": {
          "base_uri": "https://localhost:8080/",
          "height": 55
        }
      },
      "source": [
        "# Load input data\n",
        "from google.colab import drive\n",
        "drive.mount('/content/gdrive')\n",
        "# (\"X\",\"Y\",\"S\",\"T\")) in csv\n",
        "data = pd.read_csv(dir_base_model + \".csv\", index_col=False)\n",
        "\n",
        "v = int(len(data) * 0.8)\n",
        "test_data = data[v:len(data)]\n",
        "x_test = test_data[[\"S\", \"T\"]]\n",
        "y_test = test_data[[\"X\", \"Y\"]]"
      ],
      "execution_count": 16,
      "outputs": [
        {
          "output_type": "stream",
          "text": [
            "Drive already mounted at /content/gdrive; to attempt to forcibly remount, call drive.mount(\"/content/gdrive\", force_remount=True).\n"
          ],
          "name": "stdout"
        }
      ]
    },
    {
      "cell_type": "code",
      "metadata": {
        "id": "W3TeUdp3PAbt",
        "colab_type": "code",
        "outputId": "a29b3497-0e57-4bbc-c0e5-1db05057610b",
        "colab": {
          "base_uri": "https://localhost:8080/",
          "height": 329
        }
      },
      "source": [
        "model = tf.keras.models.load_model(dir_base_model + '.model')\n",
        "predictions = model.predict(x_test[:3].values)\n",
        "print(model.summary())"
      ],
      "execution_count": 17,
      "outputs": [
        {
          "output_type": "stream",
          "text": [
            "Model: \"sequential_2\"\n",
            "_________________________________________________________________\n",
            "Layer (type)                 Output Shape              Param #   \n",
            "=================================================================\n",
            "dense_8 (Dense)              multiple                  6         \n",
            "_________________________________________________________________\n",
            "dense_9 (Dense)              multiple                  30        \n",
            "_________________________________________________________________\n",
            "dense_10 (Dense)             multiple                  110       \n",
            "_________________________________________________________________\n",
            "dense_11 (Dense)             multiple                  22        \n",
            "=================================================================\n",
            "Total params: 168\n",
            "Trainable params: 168\n",
            "Non-trainable params: 0\n",
            "_________________________________________________________________\n",
            "None\n"
          ],
          "name": "stdout"
        }
      ]
    },
    {
      "cell_type": "code",
      "metadata": {
        "id": "ghz0zRMxEpUD",
        "colab_type": "code",
        "outputId": "e981579d-55f7-4256-e85d-12d424947d46",
        "colab": {
          "base_uri": "https://localhost:8080/",
          "height": 753
        }
      },
      "source": [
        "# Get weights and print to debug if are the correct ones\n",
        "model.get_weights()\n",
        "print(model.get_weights())"
      ],
      "execution_count": 18,
      "outputs": [
        {
          "output_type": "stream",
          "text": [
            "[array([[ 0.22628851, -0.01722067],\n",
            "       [-0.28107917,  0.09169857]], dtype=float32), array([-0.57961786, -3.121663  ], dtype=float32), array([[-0.27231553,  0.19404475,  0.4448025 , -0.359301  ,  0.3813766 ,\n",
            "         0.23981889,  0.299702  , -0.28536087, -0.38601923,  0.6765197 ],\n",
            "       [ 0.45634958,  0.08226512,  0.4669423 ,  0.4329181 , -0.32330397,\n",
            "        -0.59007597, -0.5755732 , -0.2199128 , -0.24422318,  0.10158711]],\n",
            "      dtype=float32), array([-1.7696246 , -3.5784078 ,  0.12840946,  0.61792076, -4.90371   ,\n",
            "        5.834631  ,  4.644585  ,  2.8190827 ,  9.236821  , -5.4777493 ],\n",
            "      dtype=float32), array([[-0.15242593,  0.29371846, -0.33543035, -0.7640782 , -0.15663071,\n",
            "         0.61401445, -0.3767091 ,  0.49611688, -0.42289957,  0.20189619],\n",
            "       [ 0.1878026 ,  0.39481753,  0.85841334,  0.26862812,  0.2917904 ,\n",
            "         0.20116234, -0.01714131,  0.46347958,  0.3174511 ,  1.0523717 ],\n",
            "       [ 0.35453904,  0.01848315, -0.1739196 ,  0.1467072 , -0.39441398,\n",
            "         0.7023248 , -0.2704445 , -0.4726801 , -0.7132134 , -0.4471513 ],\n",
            "       [-0.08497721,  0.14568616,  0.07354916, -0.48810515, -0.59122807,\n",
            "        -0.2853528 ,  0.20522036, -0.2943178 , -0.49282557, -0.00415336],\n",
            "       [ 0.34709483, -0.5134766 , -0.51514876,  0.21171899,  0.25362813,\n",
            "         0.67998576,  0.06671155, -0.21933968,  0.01875722,  0.13038327],\n",
            "       [-0.25492495, -0.11619847, -0.9445551 , -0.5686197 , -0.3967867 ,\n",
            "        -0.51197565,  0.04274917,  0.30570433,  0.29913816, -1.2845076 ],\n",
            "       [-0.71307373,  0.2531796 ,  0.20724371, -0.46868742,  0.066546  ,\n",
            "        -0.64321166, -0.31470856,  0.3496379 , -0.1210209 , -0.80385953],\n",
            "       [ 0.2837703 ,  0.01245207,  0.04172495,  0.46717197,  0.2736521 ,\n",
            "         0.15552561, -0.09102345, -0.7960851 , -0.3523373 , -0.32151183],\n",
            "       [ 0.6020709 , -0.3084743 , -0.50379556, -0.45480847, -0.68510616,\n",
            "        -0.15134522, -0.01760078,  0.71742415,  0.72044224, -0.4299044 ],\n",
            "       [-0.24574198,  0.19951856, -0.11248007,  0.16370139,  0.17027228,\n",
            "         0.1285387 ,  0.52166325,  0.64099926,  0.1421981 ,  0.50568706]],\n",
            "      dtype=float32), array([-1.8294362 ,  2.8741827 , -0.02708185,  0.86323315,  0.6025007 ,\n",
            "       -5.281225  , -1.8139327 ,  4.3245177 ,  4.677046  , -0.39866856],\n",
            "      dtype=float32), array([[-0.19175504,  0.03864285],\n",
            "       [-0.14110897, -0.50356615],\n",
            "       [ 0.46110725, -0.18414295],\n",
            "       [-0.14006454, -0.5538884 ],\n",
            "       [ 0.61351115,  0.18593319],\n",
            "       [ 0.31863427,  0.299957  ],\n",
            "       [ 0.44969642,  0.16510776],\n",
            "       [-0.13212426,  0.09565914],\n",
            "       [-0.07453661,  0.27159205],\n",
            "       [ 0.7034857 , -0.74597424]], dtype=float32), array([-7.9762473,  5.280314 ], dtype=float32)]\n"
          ],
          "name": "stdout"
        }
      ]
    },
    {
      "cell_type": "code",
      "metadata": {
        "id": "dtgO0n4y_K1t",
        "colab_type": "code",
        "outputId": "aede40f7-8b0a-44cb-d5f4-31ce1f1b0fa3",
        "colab": {
          "base_uri": "https://localhost:8080/",
          "height": 54
        }
      },
      "source": [
        "model.evaluate(x_test.values, y_test.values, verbose=2)"
      ],
      "execution_count": 19,
      "outputs": [
        {
          "output_type": "stream",
          "text": [
            "7/7 - 0s - loss: 10.6488 - mae: 2.8354 - mse: 10.6488\n"
          ],
          "name": "stdout"
        },
        {
          "output_type": "execute_result",
          "data": {
            "text/plain": [
              "[10.648812294006348, 2.8353543, 10.648812]"
            ]
          },
          "metadata": {
            "tags": []
          },
          "execution_count": 19
        }
      ]
    },
    {
      "cell_type": "code",
      "metadata": {
        "id": "U1faegJbbqPL",
        "colab_type": "code",
        "colab": {}
      },
      "source": [
        "# Print 3 values\n",
        "#predictions = model.predict(x_test[:3].values)\n",
        "#print(predictions)\n",
        "#print(x_test[:3])\n",
        "#print(y_test[:3])"
      ],
      "execution_count": 0,
      "outputs": []
    },
    {
      "cell_type": "code",
      "metadata": {
        "id": "gw9EOMlK5bxX",
        "colab_type": "code",
        "outputId": "cc34ae8e-5046-42c7-ab4a-bcf82d0b096e",
        "colab": {
          "base_uri": "https://localhost:8080/",
          "height": 35
        }
      },
      "source": [
        "# Predict one point (debe dar -10.0, 20.0 el hdp)\n",
        "model.predict([[497.,  85.]])"
      ],
      "execution_count": 22,
      "outputs": [
        {
          "output_type": "execute_result",
          "data": {
            "text/plain": [
              "array([[-10.698263,  24.968348]], dtype=float32)"
            ]
          },
          "metadata": {
            "tags": []
          },
          "execution_count": 22
        }
      ]
    }
  ]
}