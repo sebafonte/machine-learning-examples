{
  "nbformat": 4,
  "nbformat_minor": 0,
  "metadata": {
    "colab": {
      "name": "SIGID-noise-fm-re-trainer.ipynb",
      "provenance": [],
      "collapsed_sections": []
    },
    "kernelspec": {
      "name": "python3",
      "display_name": "Python 3"
    }
  },
  "cells": [
    {
      "cell_type": "code",
      "metadata": {
        "id": "EsEm9CK4_Wwk",
        "colab_type": "code",
        "outputId": "221ba50b-90b1-45e4-c897-97e01a94fa96",
        "colab": {
          "base_uri": "https://localhost:8080/",
          "height": 35
        }
      },
      "source": [
        "%tensorflow_version 2.x\n",
        "from __future__ import absolute_import, division, print_function, unicode_literals\n",
        "import pandas as pd\n",
        "import tensorflow as tf\n",
        "from tensorflow.keras import Model, Sequential\n",
        "from tensorflow.keras.layers import TimeDistributed, LSTM, Dropout, Conv1D, Dense, Activation, MaxPooling1D, Input\n",
        "from tensorflow.keras.utils import Sequence as Sequence\n",
        "from tensorflow.keras.optimizers import SGD, Adam\n",
        "import numpy as np\n",
        "from google.colab import drive\n",
        "from datetime import datetime\n",
        "import ast\n",
        "import time\n",
        "\n",
        "try:\n",
        "  import tensorflow.compat.v2 as tf\n",
        "except Exception:\n",
        "  pass\n",
        "\n",
        "sample_rate = 100000\n",
        "signals_count = 2\n",
        "epochs = 10\n",
        "batch_size = 128\n",
        "capture_size = 2048\n",
        "\n",
        "# Debug\n",
        "#train_size = 16\n",
        "#test_size = 4\n",
        "#capture_size = 8\n",
        "# Test\n",
        "#train_size = 50\n",
        "#test_size = 5\n",
        "# Real\n",
        "train_size = 1000\n",
        "test_size = 200\n",
        "\n",
        "dir_base_model = \"/content/gdrive/My Drive/DeepLearning/sigid/test-\"\n",
        "print(tf.__version__)"
      ],
      "execution_count": 0,
      "outputs": [
        {
          "output_type": "stream",
          "text": [
            "2.1.0\n"
          ],
          "name": "stdout"
        }
      ]
    },
    {
      "cell_type": "code",
      "metadata": {
        "id": "e918TNm9AS0-",
        "colab_type": "code",
        "outputId": "e9052f6d-022c-4b93-dcf7-d08b0231ffea",
        "colab": {
          "base_uri": "https://localhost:8080/",
          "height": 35
        }
      },
      "source": [
        "drive.mount('/content/gdrive')\n",
        "\n",
        "# Create a dtype with the binary data format and the desired column names\n",
        "dt = np.dtype([('i', 'f4'), ('q', 'f4')])\n",
        "# Load noisy data\n",
        "data = np.fromfile(dir_base_model + \"nothing.iq\", dtype=dt)\n",
        "dfa = pd.DataFrame(data)\n",
        "dfa[\"label\"] = \"BLANK\"\n",
        "npArray = np.array(range(len(dfa)), dtype='f4', copy=True, order='K', subok=False, ndmin=0)\n",
        "dfa[\"time\"] = npArray / sample_rate\n",
        "# Load FM data\n",
        "data = np.fromfile(dir_base_model + \"999.iq\", dtype=dt)\n",
        "dfb = pd.DataFrame(data)\n",
        "dfb[\"label\"] = \"FM\"\n",
        "npArray = np.array(range(len(dfb)), dtype='f4', copy=True, order='K', subok=False, ndmin=0)\n",
        "dfb[\"time\"] = npArray / sample_rate\n",
        "\n",
        "frames = [dfa, dfb]\n",
        "result = pd.concat(frames)"
      ],
      "execution_count": 0,
      "outputs": [
        {
          "output_type": "stream",
          "text": [
            "Drive already mounted at /content/gdrive; to attempt to forcibly remount, call drive.mount(\"/content/gdrive\", force_remount=True).\n"
          ],
          "name": "stdout"
        }
      ]
    },
    {
      "cell_type": "code",
      "metadata": {
        "id": "4_VCA7MJkKLS",
        "colab_type": "code",
        "colab": {}
      },
      "source": [
        "train = []\n",
        "test = []\n",
        "\n",
        "# Build datasets for train \n",
        "for i in (0, train_size):\n",
        "  ii = i * capture_size\n",
        "  train.append(dfa[ii:ii + capture_size].values)\n",
        "for i in (0, train_size):\n",
        "  ii = i * capture_size\n",
        "  train.append(dfb[ii:ii + capture_size].values)\n",
        "\n",
        "# Build datasets for test \n",
        "for i in (0, test_size):\n",
        "  ii = i * capture_size\n",
        "  test.append(dfa[ii:ii + capture_size].values)\n",
        "for i in (0, test_size):\n",
        "  ii = i * capture_size\n",
        "  test.append(dfb[ii:ii + capture_size].values)"
      ],
      "execution_count": 0,
      "outputs": []
    },
    {
      "cell_type": "code",
      "metadata": {
        "id": "OwfAzQDYkQ1g",
        "colab_type": "code",
        "colab": {}
      },
      "source": [
        "def get_signal_dataframes(df):\n",
        "  interleave = 2\n",
        "  dx = []\n",
        "  dy = []\n",
        "  tx = []\n",
        "  ty = []\n",
        "\n",
        "  # Generate train dataset \n",
        "  dfax = df[['i', 'q']] \n",
        "  dfay = df[['label']] \n",
        "  dfax = dfax * 10000.0\n",
        "  for i in range(0, train_size):\n",
        "    newx = dfax[interleave * i:interleave * i + capture_size]\n",
        "    dx.append(newx)    \n",
        "    newy = dfay[interleave * i:interleave * i + capture_size]\n",
        "    dy.append(newy)\n",
        "\n",
        "  # Offset to separate train from test datain df\n",
        "  offset = train_size * interleave + capture_size\n",
        "\n",
        "  # Generate test dataset \n",
        "  for i in range(0, test_size):\n",
        "    newx = dfax[interleave * i + offset:interleave * i + capture_size + offset]\n",
        "    tx.append(newx)\n",
        "    newy = dfay[interleave * i + offset:interleave * i + capture_size + offset]\n",
        "    ty.append(newy)\n",
        "\n",
        "  # Convert lists to dataframes\n",
        "  train_x = pd.DataFrame(dx) \n",
        "  train_y = pd.DataFrame(dy) \n",
        "  test_x = pd.DataFrame(tx) \n",
        "  test_y = pd.DataFrame(ty) \n",
        "  return train_x, train_y, test_x, test_y\n",
        "\n",
        "def add_dataframe_for_signal(df, train_x, train_y, test_x, test_y):\n",
        "  x, y, tx, ty = get_signal_dataframes(df)\n",
        "  train_x.append(x)\n",
        "  train_y.append(y)\n",
        "  test_x.append(tx)\n",
        "  test_y.append(ty)\n",
        "\n",
        "train_x = []\n",
        "train_y = []\n",
        "test_x = []\n",
        "test_y = []\n",
        "add_dataframe_for_signal(dfa, train_x, train_y, test_x, test_y)\n",
        "add_dataframe_for_signal(dfb, train_x, train_y, test_x, test_y)\n",
        "\n",
        "# Build dataframes \n",
        "train_x = pd.concat(train_x)\n",
        "train_y = pd.concat(train_y)\n",
        "test_x = pd.concat(test_x)\n",
        "test_y = pd.concat(test_y)\n",
        "\n",
        "# Shuffle data\n",
        "permutations = np.random.permutation(len(train_y))\n",
        "train_x = train_x.iloc[permutations]\n",
        "train_y = train_y.iloc[permutations]\n",
        "permutations = np.random.permutation(len(test_x))\n",
        "test_x = test_x.iloc[permutations]\n",
        "test_y = test_y.iloc[permutations]"
      ],
      "execution_count": 0,
      "outputs": []
    },
    {
      "cell_type": "code",
      "metadata": {
        "id": "y3auDKv86p6W",
        "colab_type": "code",
        "outputId": "e39054b2-06b2-4c3d-a307-cc5ea66ba689",
        "colab": {
          "base_uri": "https://localhost:8080/",
          "height": 54
        }
      },
      "source": [
        "# Check saved accuracy\n",
        "try:\n",
        "    f = open(dir_base_model + 'best-noise-vs-fm-info.txt', 'rt')\n",
        "    f.close()\n",
        "    exists = True\n",
        "except FileNotFoundError:\n",
        "    exists = False\n",
        "# Check if saved model is better. If false, save this one.\n",
        "if (exists == True):\n",
        "  file = open(dir_base_model + 'best-noise-vs-fm-info.txt', 'rt')\n",
        "  value = file.read()\n",
        "  file.close()\n",
        "  old_evaluation_result = ast.literal_eval(value)\n",
        "  print(\"Saved loss is: \" + str(old_evaluation_result[0]))\n",
        "  print(\"Saved accuracy is: \" + str(old_evaluation_result[1]))"
      ],
      "execution_count": 0,
      "outputs": [
        {
          "output_type": "stream",
          "text": [
            "Saved loss is: 0.5077491443157196\n",
            "Saved accuracy is: 0.768\n"
          ],
          "name": "stdout"
        }
      ]
    },
    {
      "cell_type": "code",
      "metadata": {
        "id": "QJypgO3SBsLe",
        "colab_type": "code",
        "colab": {}
      },
      "source": [
        "def save_if_better(model):\n",
        "  try:\n",
        "      f = open(dir_base_model + 'best-noise-vs-fm-info.txt', 'rt')\n",
        "      f.close()\n",
        "      exists = True\n",
        "  except FileNotFoundError:\n",
        "      exists = False\n",
        "\n",
        "  # Evaluate model\n",
        "  evaluation_result = model.evaluate(test_x, test_y, verbose=1)\n",
        "\n",
        "  # Check if saved model is better. If false, save this one.\n",
        "  if (exists == True):\n",
        "    file = open(dir_base_model + 'best-noise-vs-fm-info.txt', 'rt')\n",
        "    value = file.read()\n",
        "    file.close()\n",
        "    old_evaluation_result = ast.literal_eval(value)\n",
        "    print(\"Saved loss is: \" + str(old_evaluation_result))\n",
        "\n",
        "  # Save only if found a better configuration\n",
        "  if (exists == False or old_evaluation_result[1] < evaluation_result[1]):\n",
        "    print(\"Found better model with accuracy: \" + str(evaluation_result[1]))\n",
        "    #file = open(dir_base_model + 'best-noise-vs-fm-info.txt', 'wt')\n",
        "    #file.write(str(evaluation_result))\n",
        "    #file.close()\n",
        "    #model.save(dir_base_model + 'best-noise-vs-fm-info-retrained.model')"
      ],
      "execution_count": 0,
      "outputs": []
    },
    {
      "cell_type": "code",
      "metadata": {
        "id": "QUUIqOXEkVwv",
        "colab_type": "code",
        "colab": {}
      },
      "source": [
        "def recreate_np_array_x(d, size):\n",
        "  new = np.ndarray(shape=(signals_count * size, 2, capture_size), dtype=float)\n",
        "  # 100 i\n",
        "  for i in range(len(d.values)):\n",
        "    # 2048 j\n",
        "    for j in range(len((d.values)[i])):\n",
        "        new[i][0][j] = ((d.values)[i])[0].values[j][0]\n",
        "        new[i][1][j] = ((d.values)[i])[0].values[j][1]\n",
        "  return new\n",
        "\n",
        "def recreate_np_array_y(d, size):\n",
        "  new = np.ndarray(shape=(signals_count * size), dtype=np.int16)\n",
        "  # 100 i\n",
        "  for i in range(len(d.values)):\n",
        "    result = ((d.values)[i])[0].values[0][0]\n",
        "    if (result == 'FM'):\n",
        "      new[i] = 1\n",
        "    else:\n",
        "      new[i] = 0\n",
        "  return new\n",
        "\n",
        "train_x = recreate_np_array_x(train_x, train_size)\n",
        "train_y = recreate_np_array_y(train_y, train_size)\n",
        "test_x = recreate_np_array_x(test_x, test_size)\n",
        "test_y = recreate_np_array_y(test_y, test_size)"
      ],
      "execution_count": 0,
      "outputs": []
    },
    {
      "cell_type": "code",
      "metadata": {
        "id": "8Ju2TM04ATyv",
        "colab_type": "code",
        "colab": {}
      },
      "source": [
        "def load_last_and_train():\n",
        "  model = tf.keras.models.load_model(dir_base_model + 'best-noise-vs-fm-info.model')\n",
        "  optimizer = tf.keras.optimizers.Adam(learning_rate=0.001)\n",
        "  start_time = time.time()\n",
        "  model.compile(optimizer='adam', loss='sparse_categorical_crossentropy', metrics=['accuracy'])\n",
        "  model.summary()\n",
        "  model.fit(x = train_x, y = train_y, batch_size=batch_size, verbose=1, validation_data=(test_x, test_y), epochs=epochs)\n",
        "  #model.fit(x = train_x, y = train_y, batch_size=batch_size, verbose=1, epochs=epochs)\n",
        "  result = model.evaluate(test_x, test_y, verbose=0)\n",
        "  end_time = time.time() - start_time\n",
        "  print(str(result) + \" taken \" + str(end_time) + \" seconds\")\n",
        "  return model, result"
      ],
      "execution_count": 0,
      "outputs": []
    },
    {
      "cell_type": "code",
      "metadata": {
        "id": "FJzioE7oHA1S",
        "colab_type": "code",
        "outputId": "2fbaa339-44f4-4518-df60-f06e8e17a520",
        "colab": {
          "base_uri": "https://localhost:8080/",
          "height": 229
        }
      },
      "source": [
        "#for x in range(1):\n",
        "#  model, result = load_last_and_train()\n",
        "#  save_if_better(model, result)\n",
        "\n",
        "# Get final weights\n",
        "#print(\"Current weights:\\n\")\n",
        "#print(model.get_weights())"
      ],
      "execution_count": 0,
      "outputs": [
        {
          "output_type": "stream",
          "text": [
            "Current weights:\n",
            "\n"
          ],
          "name": "stdout"
        },
        {
          "output_type": "error",
          "ename": "NameError",
          "evalue": "ignored",
          "traceback": [
            "\u001b[0;31m---------------------------------------------------------------------------\u001b[0m",
            "\u001b[0;31mNameError\u001b[0m                                 Traceback (most recent call last)",
            "\u001b[0;32m<ipython-input-84-4c805489bb63>\u001b[0m in \u001b[0;36m<module>\u001b[0;34m()\u001b[0m\n\u001b[1;32m      1\u001b[0m \u001b[0mprint\u001b[0m\u001b[0;34m(\u001b[0m\u001b[0;34m\"Current weights:\\n\"\u001b[0m\u001b[0;34m)\u001b[0m\u001b[0;34m\u001b[0m\u001b[0;34m\u001b[0m\u001b[0m\n\u001b[0;32m----> 2\u001b[0;31m \u001b[0mprint\u001b[0m\u001b[0;34m(\u001b[0m\u001b[0mmodel\u001b[0m\u001b[0;34m.\u001b[0m\u001b[0mget_weights\u001b[0m\u001b[0;34m(\u001b[0m\u001b[0;34m)\u001b[0m\u001b[0;34m)\u001b[0m\u001b[0;34m\u001b[0m\u001b[0;34m\u001b[0m\u001b[0m\n\u001b[0m",
            "\u001b[0;31mNameError\u001b[0m: name 'model' is not defined"
          ]
        }
      ]
    },
    {
      "cell_type": "code",
      "metadata": {
        "id": "lC9F8Z3xHT40",
        "colab_type": "code",
        "outputId": "4fcbf153-507e-41af-d4f2-20cd464b16d2",
        "colab": {
          "base_uri": "https://localhost:8080/",
          "height": 904
        }
      },
      "source": [
        "model, result = load_last_and_train()"
      ],
      "execution_count": 0,
      "outputs": [
        {
          "output_type": "stream",
          "text": [
            "Model: \"sequential_45\"\n",
            "_________________________________________________________________\n",
            "Layer (type)                 Output Shape              Param #   \n",
            "=================================================================\n",
            "conv1d_160 (Conv1D)          (None, 2, 10)             327690    \n",
            "_________________________________________________________________\n",
            "max_pooling1d_160 (MaxPoolin (None, 1, 10)             0         \n",
            "_________________________________________________________________\n",
            "conv1d_161 (Conv1D)          (None, 1, 10)             1210      \n",
            "_________________________________________________________________\n",
            "max_pooling1d_161 (MaxPoolin (None, 1, 10)             0         \n",
            "_________________________________________________________________\n",
            "conv1d_162 (Conv1D)          (None, 1, 10)             610       \n",
            "_________________________________________________________________\n",
            "max_pooling1d_162 (MaxPoolin (None, 1, 10)             0         \n",
            "_________________________________________________________________\n",
            "conv1d_163 (Conv1D)          (None, 1, 10)             310       \n",
            "_________________________________________________________________\n",
            "max_pooling1d_163 (MaxPoolin (None, 1, 10)             0         \n",
            "_________________________________________________________________\n",
            "dense_56 (Dense)             (None, 1, 2)              22        \n",
            "=================================================================\n",
            "Total params: 329,842\n",
            "Trainable params: 329,842\n",
            "Non-trainable params: 0\n",
            "_________________________________________________________________\n",
            "Train on 2000 samples\n",
            "Epoch 1/10\n",
            "2000/2000 [==============================] - 2s 788us/sample - loss: 0.2572 - accuracy: 0.8955\n",
            "Epoch 2/10\n",
            "2000/2000 [==============================] - 1s 481us/sample - loss: 0.2558 - accuracy: 0.8945\n",
            "Epoch 3/10\n",
            "2000/2000 [==============================] - 1s 472us/sample - loss: 0.2556 - accuracy: 0.8935\n",
            "Epoch 4/10\n",
            "2000/2000 [==============================] - 1s 484us/sample - loss: 0.2559 - accuracy: 0.8955\n",
            "Epoch 5/10\n",
            "2000/2000 [==============================] - 1s 477us/sample - loss: 0.2567 - accuracy: 0.8955\n",
            "Epoch 6/10\n",
            "2000/2000 [==============================] - 1s 472us/sample - loss: 0.2566 - accuracy: 0.8945\n",
            "Epoch 7/10\n",
            "2000/2000 [==============================] - 1s 475us/sample - loss: 0.2558 - accuracy: 0.8955\n",
            "Epoch 8/10\n",
            "2000/2000 [==============================] - 1s 484us/sample - loss: 0.2561 - accuracy: 0.8945\n",
            "Epoch 9/10\n",
            "2000/2000 [==============================] - 1s 480us/sample - loss: 0.2563 - accuracy: 0.8950\n",
            "Epoch 10/10\n",
            "2000/2000 [==============================] - 1s 468us/sample - loss: 0.2576 - accuracy: 0.8965\n",
            "[6.222361717224121, 0.505] taken 10.464492797851562 seconds\n"
          ],
          "name": "stdout"
        }
      ]
    },
    {
      "cell_type": "code",
      "metadata": {
        "id": "dI_0vdwiHX7L",
        "colab_type": "code",
        "outputId": "fc31db1f-fb67-401e-88bc-9f466e44d467",
        "colab": {
          "base_uri": "https://localhost:8080/",
          "height": 35
        }
      },
      "source": [
        "print(str(result))"
      ],
      "execution_count": 0,
      "outputs": [
        {
          "output_type": "stream",
          "text": [
            "[6.222361717224121, 0.505]\n"
          ],
          "name": "stdout"
        }
      ]
    },
    {
      "cell_type": "code",
      "metadata": {
        "id": "4hCaPHcwHTqT",
        "colab_type": "code",
        "outputId": "316047b4-4d61-4dfc-cfa8-635cf77009cd",
        "colab": {
          "base_uri": "https://localhost:8080/",
          "height": 173
        }
      },
      "source": [
        "save_if_better(model, result)"
      ],
      "execution_count": 0,
      "outputs": [
        {
          "output_type": "error",
          "ename": "TypeError",
          "evalue": "ignored",
          "traceback": [
            "\u001b[0;31m---------------------------------------------------------------------------\u001b[0m",
            "\u001b[0;31mTypeError\u001b[0m                                 Traceback (most recent call last)",
            "\u001b[0;32m<ipython-input-96-37c33c5a85df>\u001b[0m in \u001b[0;36m<module>\u001b[0;34m()\u001b[0m\n\u001b[0;32m----> 1\u001b[0;31m \u001b[0msave_if_better\u001b[0m\u001b[0;34m(\u001b[0m\u001b[0mmodel\u001b[0m\u001b[0;34m,\u001b[0m \u001b[0mresult\u001b[0m\u001b[0;34m)\u001b[0m\u001b[0;34m\u001b[0m\u001b[0;34m\u001b[0m\u001b[0m\n\u001b[0m",
            "\u001b[0;31mTypeError\u001b[0m: save_if_better() takes 1 positional argument but 2 were given"
          ]
        }
      ]
    },
    {
      "cell_type": "code",
      "metadata": {
        "id": "KJKyBpOAD1Jy",
        "colab_type": "code",
        "colab": {}
      },
      "source": [
        "result = model.predict()\n",
        "if :\n",
        "  print(\"This is a FM\")\n",
        "else\n",
        "  print(\"This is a NOISE\")"
      ],
      "execution_count": 0,
      "outputs": []
    },
    {
      "cell_type": "code",
      "metadata": {
        "id": "JqM_P3ZhEHcm",
        "colab_type": "code",
        "colab": {}
      },
      "source": [
        "result = model.predict()\n",
        "if (result):\n",
        "  print(\"This is a FM\")\n",
        "else\n",
        "  print(\"This is a NOISE\")"
      ],
      "execution_count": 0,
      "outputs": []
    }
  ]
}