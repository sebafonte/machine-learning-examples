{
 "cells": [
  {
   "cell_type": "code",
   "execution_count": 13,
   "metadata": {},
   "outputs": [],
   "source": [
    "import os\n",
    "import re\n",
    "\n",
    "def get_lines(file):\n",
    "    file = open(file, 'rt')\n",
    "    value = file.readlines()\n",
    "    file.close()\n",
    "    return value\n",
    "\n",
    "\n",
    "def filtered_lines(lines, nicks):\n",
    "    result = []\n",
    "    for line in lines:\n",
    "        for nick in nicks:\n",
    "            if (line.find(nick) >= 0):\n",
    "                if (has_unuseful_content(line)):\n",
    "                    result.append(line.replace(nick, ''))\n",
    "    return result\n",
    "\n",
    "def has_english_content(content):\n",
    "    exclude_words = ['mean', 'anything', 'what', 'have', 'hope it', 'at the', 'but worth every', 'who u want send']\n",
    "    for l in content:\n",
    "        for w in exclude_words:\n",
    "            if (l.find(w) >= 0):\n",
    "                return True\n",
    "    return False\n",
    "    \n",
    "def has_unuseful_content(line):\n",
    "    exclude_words = ['xdcc send', 'iparty://', 'xdcc send', 'sets mode','!help', '!list', \n",
    "                     'www.', '<Koshi>', '443-9804', ' http://', '<uctumi>', '<koza>', '<_Cloak|Aw>', '<wombwound>',\n",
    "                     '911-2503', '<scaramuz>', '<bnd>', '<bnd>','has joined ', '5rev']\n",
    "    for i in exclude_words:\n",
    "        if (line.find(i) >= 0):\n",
    "            return False\n",
    "    return True\n",
    "\n",
    "\n",
    "directory = \"logs\"\n",
    "files = os.listdir(directory)\n",
    "new_file = open('arleka.txt', 'wt')\n",
    "\n",
    "for file in files:\n",
    "    all_data = []\n",
    "    lines = get_lines(directory + '/' + file)\n",
    "    if not (has_english_content(lines)):\n",
    "        filtered = filtered_lines(lines, ['<Arlek>', '<Arlequin>', '<ArlequinPVM>', '<VjArlequi>'])\n",
    "        all_data.append(filtered)\n",
    "        if (len(filtered) > 0):\n",
    "            #print(file)\n",
    "            for line in filtered:\n",
    "                #print('  ' + str(line))\n",
    "                new_file.write(line)\n",
    "                \n",
    "new_file.close()"
   ]
  },
  {
   "cell_type": "code",
   "execution_count": null,
   "metadata": {},
   "outputs": [],
   "source": []
  }
 ],
 "metadata": {
  "kernelspec": {
   "display_name": "Python 3",
   "language": "python",
   "name": "python3"
  },
  "language_info": {
   "codemirror_mode": {
    "name": "ipython",
    "version": 3
   },
   "file_extension": ".py",
   "mimetype": "text/x-python",
   "name": "python",
   "nbconvert_exporter": "python",
   "pygments_lexer": "ipython3",
   "version": "3.5.6"
  }
 },
 "nbformat": 4,
 "nbformat_minor": 4
}
